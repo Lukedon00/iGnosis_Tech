{
 "cells": [
  {
   "cell_type": "code",
   "execution_count": 1,
   "metadata": {},
   "outputs": [
    {
     "name": "stderr",
     "output_type": "stream",
     "text": [
      "C:\\Users\\ASUS\\anaconda3\\Lib\\site-packages\\pandas\\core\\arrays\\masked.py:60: UserWarning: Pandas requires version '1.3.6' or newer of 'bottleneck' (version '1.3.5' currently installed).\n",
      "  from pandas.core import (\n"
     ]
    }
   ],
   "source": [
    "import pandas as pd \n",
    "import matplotlib.pyplot as plt\n",
    "import seaborn as sns"
   ]
  },
  {
   "cell_type": "code",
   "execution_count": 2,
   "metadata": {},
   "outputs": [],
   "source": [
    "# Load the datasets \n",
    "purchase_df = pd.read_csv(r\"P:\\Git_Files\\iGnosis_Tech_assignment\\Datas\\purchase_behaviour.csv\")\n",
    "transaction_df = pd.read_csv(r\"P:\\Git_Files\\iGnosis_Tech_assignment\\Datas\\transaction_data.csv\")"
   ]
  },
  {
   "cell_type": "code",
   "execution_count": 3,
   "metadata": {},
   "outputs": [
    {
     "name": "stdout",
     "output_type": "stream",
     "text": [
      "Purchase Data Info:\n",
      "<class 'pandas.core.frame.DataFrame'>\n",
      "RangeIndex: 72637 entries, 0 to 72636\n",
      "Data columns (total 3 columns):\n",
      " #   Column            Non-Null Count  Dtype \n",
      "---  ------            --------------  ----- \n",
      " 0   LYLTY_CARD_NBR    72637 non-null  int64 \n",
      " 1   LIFESTAGE         72637 non-null  object\n",
      " 2   PREMIUM_CUSTOMER  72637 non-null  object\n",
      "dtypes: int64(1), object(2)\n",
      "memory usage: 1.7+ MB\n",
      "None\n",
      "\n",
      "Transaction Data Info:\n",
      "<class 'pandas.core.frame.DataFrame'>\n",
      "RangeIndex: 264836 entries, 0 to 264835\n",
      "Data columns (total 8 columns):\n",
      " #   Column          Non-Null Count   Dtype  \n",
      "---  ------          --------------   -----  \n",
      " 0   DATE            264836 non-null  int64  \n",
      " 1   STORE_NBR       264836 non-null  int64  \n",
      " 2   LYLTY_CARD_NBR  264836 non-null  int64  \n",
      " 3   TXN_ID          264836 non-null  int64  \n",
      " 4   PROD_NBR        264836 non-null  int64  \n",
      " 5   PROD_NAME       264836 non-null  object \n",
      " 6   PROD_QTY        264836 non-null  int64  \n",
      " 7   TOT_SALES       264836 non-null  float64\n",
      "dtypes: float64(1), int64(6), object(1)\n",
      "memory usage: 16.2+ MB\n",
      "None\n"
     ]
    }
   ],
   "source": [
    "# Display basic info \n",
    "print(\"Purchase Data Info:\")\n",
    "print(purchase_df.info())\n",
    "print(\"\\nTransaction Data Info:\")\n",
    "print(transaction_df.info())"
   ]
  },
  {
   "cell_type": "code",
   "execution_count": 4,
   "metadata": {},
   "outputs": [
    {
     "name": "stdout",
     "output_type": "stream",
     "text": [
      "Missing values in Purchase Data:\n",
      "LYLTY_CARD_NBR      0\n",
      "LIFESTAGE           0\n",
      "PREMIUM_CUSTOMER    0\n",
      "dtype: int64\n",
      "\n",
      "Missing values in Transaction Data:\n",
      "DATE              0\n",
      "STORE_NBR         0\n",
      "LYLTY_CARD_NBR    0\n",
      "TXN_ID            0\n",
      "PROD_NBR          0\n",
      "PROD_NAME         0\n",
      "PROD_QTY          0\n",
      "TOT_SALES         0\n",
      "dtype: int64\n"
     ]
    }
   ],
   "source": [
    "# Check for missing values\n",
    "print(\"Missing values in Purchase Data:\")\n",
    "print(purchase_df.isnull().sum())\n",
    "print(\"\\nMissing values in Transaction Data:\")\n",
    "print(transaction_df.isnull().sum())"
   ]
  },
  {
   "cell_type": "code",
   "execution_count": 5,
   "metadata": {},
   "outputs": [],
   "source": [
    "# Convert date column to datetime format\n",
    "transaction_df['DATE'] = pd.to_datetime(transaction_df['DATE'])"
   ]
  },
  {
   "cell_type": "code",
   "execution_count": 6,
   "metadata": {},
   "outputs": [],
   "source": [
    "# Sort transaction data by product number\n",
    "transaction_df = transaction_df.sort_values(by='PROD_NBR').reset_index(drop=True)"
   ]
  },
  {
   "cell_type": "code",
   "execution_count": 8,
   "metadata": {},
   "outputs": [
    {
     "data": {
      "text/html": [
       "<div>\n",
       "<style scoped>\n",
       "    .dataframe tbody tr th:only-of-type {\n",
       "        vertical-align: middle;\n",
       "    }\n",
       "\n",
       "    .dataframe tbody tr th {\n",
       "        vertical-align: top;\n",
       "    }\n",
       "\n",
       "    .dataframe thead th {\n",
       "        text-align: right;\n",
       "    }\n",
       "</style>\n",
       "<table border=\"1\" class=\"dataframe\">\n",
       "  <thead>\n",
       "    <tr style=\"text-align: right;\">\n",
       "      <th></th>\n",
       "      <th>DATE</th>\n",
       "      <th>STORE_NBR</th>\n",
       "      <th>LYLTY_CARD_NBR</th>\n",
       "      <th>TXN_ID</th>\n",
       "      <th>PROD_NBR</th>\n",
       "      <th>PROD_NAME</th>\n",
       "      <th>PROD_QTY</th>\n",
       "      <th>TOT_SALES</th>\n",
       "    </tr>\n",
       "  </thead>\n",
       "  <tbody>\n",
       "    <tr>\n",
       "      <th>0</th>\n",
       "      <td>1970-01-01 00:00:00.000043345</td>\n",
       "      <td>22</td>\n",
       "      <td>22460</td>\n",
       "      <td>18702</td>\n",
       "      <td>1</td>\n",
       "      <td>Smiths Crinkle Cut  Chips Barbecue 170g</td>\n",
       "      <td>2</td>\n",
       "      <td>5.8</td>\n",
       "    </tr>\n",
       "    <tr>\n",
       "      <th>1</th>\n",
       "      <td>1970-01-01 00:00:00.000043538</td>\n",
       "      <td>53</td>\n",
       "      <td>53060</td>\n",
       "      <td>47316</td>\n",
       "      <td>1</td>\n",
       "      <td>Smiths Crinkle Cut  Chips Barbecue 170g</td>\n",
       "      <td>2</td>\n",
       "      <td>5.8</td>\n",
       "    </tr>\n",
       "    <tr>\n",
       "      <th>2</th>\n",
       "      <td>1970-01-01 00:00:00.000043305</td>\n",
       "      <td>69</td>\n",
       "      <td>69166</td>\n",
       "      <td>66913</td>\n",
       "      <td>1</td>\n",
       "      <td>Smiths Crinkle Cut  Chips Barbecue 170g</td>\n",
       "      <td>2</td>\n",
       "      <td>5.8</td>\n",
       "    </tr>\n",
       "    <tr>\n",
       "      <th>3</th>\n",
       "      <td>1970-01-01 00:00:00.000043497</td>\n",
       "      <td>223</td>\n",
       "      <td>223038</td>\n",
       "      <td>223159</td>\n",
       "      <td>1</td>\n",
       "      <td>Smiths Crinkle Cut  Chips Barbecue 170g</td>\n",
       "      <td>2</td>\n",
       "      <td>5.8</td>\n",
       "    </tr>\n",
       "    <tr>\n",
       "      <th>4</th>\n",
       "      <td>1970-01-01 00:00:00.000043485</td>\n",
       "      <td>230</td>\n",
       "      <td>230222</td>\n",
       "      <td>233470</td>\n",
       "      <td>1</td>\n",
       "      <td>Smiths Crinkle Cut  Chips Barbecue 170g</td>\n",
       "      <td>2</td>\n",
       "      <td>5.8</td>\n",
       "    </tr>\n",
       "  </tbody>\n",
       "</table>\n",
       "</div>"
      ],
      "text/plain": [
       "                           DATE  STORE_NBR  LYLTY_CARD_NBR  TXN_ID  PROD_NBR  \\\n",
       "0 1970-01-01 00:00:00.000043345         22           22460   18702         1   \n",
       "1 1970-01-01 00:00:00.000043538         53           53060   47316         1   \n",
       "2 1970-01-01 00:00:00.000043305         69           69166   66913         1   \n",
       "3 1970-01-01 00:00:00.000043497        223          223038  223159         1   \n",
       "4 1970-01-01 00:00:00.000043485        230          230222  233470         1   \n",
       "\n",
       "                                 PROD_NAME  PROD_QTY  TOT_SALES  \n",
       "0  Smiths Crinkle Cut  Chips Barbecue 170g         2        5.8  \n",
       "1  Smiths Crinkle Cut  Chips Barbecue 170g         2        5.8  \n",
       "2  Smiths Crinkle Cut  Chips Barbecue 170g         2        5.8  \n",
       "3  Smiths Crinkle Cut  Chips Barbecue 170g         2        5.8  \n",
       "4  Smiths Crinkle Cut  Chips Barbecue 170g         2        5.8  "
      ]
     },
     "execution_count": 8,
     "metadata": {},
     "output_type": "execute_result"
    }
   ],
   "source": [
    "# Display the sorted data by product number\n",
    "transaction_df.head()"
   ]
  },
  {
   "cell_type": "code",
   "execution_count": 9,
   "metadata": {},
   "outputs": [
    {
     "data": {
      "text/html": [
       "<div>\n",
       "<style scoped>\n",
       "    .dataframe tbody tr th:only-of-type {\n",
       "        vertical-align: middle;\n",
       "    }\n",
       "\n",
       "    .dataframe tbody tr th {\n",
       "        vertical-align: top;\n",
       "    }\n",
       "\n",
       "    .dataframe thead th {\n",
       "        text-align: right;\n",
       "    }\n",
       "</style>\n",
       "<table border=\"1\" class=\"dataframe\">\n",
       "  <thead>\n",
       "    <tr style=\"text-align: right;\">\n",
       "      <th></th>\n",
       "      <th>DATE</th>\n",
       "      <th>STORE_NBR</th>\n",
       "      <th>LYLTY_CARD_NBR</th>\n",
       "      <th>TXN_ID</th>\n",
       "      <th>PROD_NBR</th>\n",
       "      <th>PROD_NAME</th>\n",
       "      <th>PROD_QTY</th>\n",
       "      <th>TOT_SALES</th>\n",
       "    </tr>\n",
       "  </thead>\n",
       "  <tbody>\n",
       "    <tr>\n",
       "      <th>264831</th>\n",
       "      <td>1970-01-01 00:00:00.000043411</td>\n",
       "      <td>123</td>\n",
       "      <td>123060</td>\n",
       "      <td>126367</td>\n",
       "      <td>114</td>\n",
       "      <td>Kettle Sensations   Siracha Lime 150g</td>\n",
       "      <td>2</td>\n",
       "      <td>9.2</td>\n",
       "    </tr>\n",
       "    <tr>\n",
       "      <th>264832</th>\n",
       "      <td>1970-01-01 00:00:00.000043327</td>\n",
       "      <td>17</td>\n",
       "      <td>17314</td>\n",
       "      <td>15086</td>\n",
       "      <td>114</td>\n",
       "      <td>Kettle Sensations   Siracha Lime 150g</td>\n",
       "      <td>1</td>\n",
       "      <td>4.6</td>\n",
       "    </tr>\n",
       "    <tr>\n",
       "      <th>264833</th>\n",
       "      <td>1970-01-01 00:00:00.000043352</td>\n",
       "      <td>237</td>\n",
       "      <td>237063</td>\n",
       "      <td>240336</td>\n",
       "      <td>114</td>\n",
       "      <td>Kettle Sensations   Siracha Lime 150g</td>\n",
       "      <td>2</td>\n",
       "      <td>9.2</td>\n",
       "    </tr>\n",
       "    <tr>\n",
       "      <th>264834</th>\n",
       "      <td>1970-01-01 00:00:00.000043381</td>\n",
       "      <td>236</td>\n",
       "      <td>236108</td>\n",
       "      <td>239202</td>\n",
       "      <td>114</td>\n",
       "      <td>Kettle Sensations   Siracha Lime 150g</td>\n",
       "      <td>2</td>\n",
       "      <td>9.2</td>\n",
       "    </tr>\n",
       "    <tr>\n",
       "      <th>264835</th>\n",
       "      <td>1970-01-01 00:00:00.000043331</td>\n",
       "      <td>201</td>\n",
       "      <td>201102</td>\n",
       "      <td>200375</td>\n",
       "      <td>114</td>\n",
       "      <td>Kettle Sensations   Siracha Lime 150g</td>\n",
       "      <td>1</td>\n",
       "      <td>4.6</td>\n",
       "    </tr>\n",
       "  </tbody>\n",
       "</table>\n",
       "</div>"
      ],
      "text/plain": [
       "                                DATE  STORE_NBR  LYLTY_CARD_NBR  TXN_ID  \\\n",
       "264831 1970-01-01 00:00:00.000043411        123          123060  126367   \n",
       "264832 1970-01-01 00:00:00.000043327         17           17314   15086   \n",
       "264833 1970-01-01 00:00:00.000043352        237          237063  240336   \n",
       "264834 1970-01-01 00:00:00.000043381        236          236108  239202   \n",
       "264835 1970-01-01 00:00:00.000043331        201          201102  200375   \n",
       "\n",
       "        PROD_NBR                              PROD_NAME  PROD_QTY  TOT_SALES  \n",
       "264831       114  Kettle Sensations   Siracha Lime 150g         2        9.2  \n",
       "264832       114  Kettle Sensations   Siracha Lime 150g         1        4.6  \n",
       "264833       114  Kettle Sensations   Siracha Lime 150g         2        9.2  \n",
       "264834       114  Kettle Sensations   Siracha Lime 150g         2        9.2  \n",
       "264835       114  Kettle Sensations   Siracha Lime 150g         1        4.6  "
      ]
     },
     "execution_count": 9,
     "metadata": {},
     "output_type": "execute_result"
    }
   ],
   "source": [
    "transaction_df.tail()"
   ]
  },
  {
   "cell_type": "code",
   "execution_count": 10,
   "metadata": {},
   "outputs": [],
   "source": [
    "# Identify top 3 most profitable products based on total sales and number of customers\n",
    "product_analysis = transaction_df.groupby('PROD_NBR').agg({'TOT_SALES': 'sum', 'LYLTY_CARD_NBR': 'nunique'}).reset_index()\n",
    "product_analysis = product_analysis.rename(columns={'LYLTY_CARD_NBR': 'Unique_Customers'})\n",
    "product_analysis['Profitability_Score'] = product_analysis['TOT_SALES'] * product_analysis['Unique_Customers']\n",
    "top_products = product_analysis.sort_values(by='Profitability_Score', ascending=False).head(3)"
   ]
  },
  {
   "cell_type": "code",
   "execution_count": 11,
   "metadata": {},
   "outputs": [],
   "source": [
    "# Identify most profitable customers\n",
    "customer_profit = transaction_df.groupby('LYLTY_CARD_NBR').agg({'TOT_SALES': 'sum', 'TXN_ID': 'count'})\n",
    "customer_profit = customer_profit.rename(columns={'TOT_SALES': 'Total_Spent', 'TXN_ID': 'Total_Transactions'})\n",
    "profitable_customers = customer_profit.sort_values(by='Total_Spent', ascending=False).head(10)"
   ]
  },
  {
   "cell_type": "code",
   "execution_count": 12,
   "metadata": {},
   "outputs": [],
   "source": [
    "# Merge with customer characteristics\n",
    "profitable_customers = profitable_customers.merge(purchase_df, on='LYLTY_CARD_NBR', how='left')\n"
   ]
  },
  {
   "cell_type": "code",
   "execution_count": 13,
   "metadata": {},
   "outputs": [],
   "source": [
    "# Grouping profitable customers by LIFESTAGE and PREMIUM_CUSTOMER\n",
    "profitable_segments = profitable_customers.groupby(['LIFESTAGE', 'PREMIUM_CUSTOMER']).agg({'Total_Spent': 'sum', 'Total_Transactions': 'sum'}).reset_index()\n"
   ]
  },
  {
   "cell_type": "code",
   "execution_count": 14,
   "metadata": {},
   "outputs": [
    {
     "data": {
      "image/png": "[encoded data removed]",
      "text/plain": [
       "<Figure size 800x500 with 1 Axes>"
      ]
     },
     "metadata": {},
     "output_type": "display_data"
    }
   ],
   "source": [
    "# Visualizing top products\n",
    "plt.figure(figsize=(8, 5))\n",
    "sns.barplot(x=top_products['PROD_NBR'], y=top_products['Profitability_Score'], palette='viridis')\n",
    "plt.title('Top 3 Most Profitable Products')\n",
    "plt.xlabel('Product Number')\n",
    "plt.ylabel('Profitability Score (Sales x Customers)')\n",
    "plt.show()"
   ]
  },
  {
   "cell_type": "code",
   "execution_count": 15,
   "metadata": {},
   "outputs": [
    {
     "data": {
      "image/png": "[encoded data removed]",
      "text/plain": [
       "<Figure size 1000x600 with 1 Axes>"
      ]
     },
     "metadata": {},
     "output_type": "display_data"
    }
   ],
   "source": [
    "# Visualizing most profitable customer segments\n",
    "plt.figure(figsize=(10, 6))\n",
    "sns.barplot(x='LIFESTAGE', y='Total_Spent', hue='PREMIUM_CUSTOMER', data=profitable_segments, palette='Set2')\n",
    "plt.title('Most Profitable Customers by Lifestage and Premium Status')\n",
    "plt.xlabel('Lifestage')\n",
    "plt.ylabel('Total Spent')\n",
    "plt.xticks(rotation=45)\n",
    "plt.show()"
   ]
  },
  {
   "cell_type": "code",
   "execution_count": null,
   "metadata": {},
   "outputs": [],
   "source": []
  }
 ],
 "metadata": {
  "kernelspec": {
   "display_name": "Python 3 (ipykernel)",
   "language": "python",
   "name": "python3"
  },
  "language_info": {
   "codemirror_mode": {
    "name": "ipython",
    "version": 3
   },
   "file_extension": ".py",
   "mimetype": "text/x-python",
   "name": "python",
   "nbconvert_exporter": "python",
   "pygments_lexer": "ipython3",
   "version": "3.11.5"
  }
 },
 "nbformat": 4,
 "nbformat_minor": 2
}
